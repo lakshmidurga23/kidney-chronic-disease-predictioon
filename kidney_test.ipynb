{
  "nbformat": 4,
  "nbformat_minor": 0,
  "metadata": {
    "colab": {
      "provenance": []
    },
    "kernelspec": {
      "name": "python3",
      "display_name": "Python 3"
    },
    "language_info": {
      "name": "python"
    }
  },
  "cells": [
    {
      "cell_type": "code",
      "execution_count": null,
      "metadata": {
        "id": "OkZtIN5YzHVH"
      },
      "outputs": [],
      "source": [
        "from keras.models import load_model\n",
        "import numpy as np"
      ]
    },
    {
      "cell_type": "code",
      "source": [
        "labels = ['age', 'bp', 'sg', 'al', 'su', 'rbc', 'pc', 'pcc', 'ba', 'bgr',\n",
        "          'bu', 'sc', 'sod', 'pot', 'hemo', 'pcv', 'wc', 'rc', 'htn', 'dm',\n",
        "          'cad', 'appet', 'pe', 'ane','???']"
      ],
      "metadata": {
        "id": "hAln0n7qz3cL"
      },
      "execution_count": 12,
      "outputs": []
    },
    {
      "cell_type": "code",
      "source": [
        "inputs = []\n",
        "for label in labels:\n",
        "    value = input(f'Enter {label}: ')\n",
        "    try:\n",
        "        inputs.append(float(value))\n",
        "    except:\n",
        "        inputs.append(int(value))"
      ],
      "metadata": {
        "colab": {
          "base_uri": "https://localhost:8080/"
        },
        "id": "d6GR_AMHz-Qa",
        "outputId": "f9e726b0-0a42-417d-b34d-575b451210c9"
      },
      "execution_count": 13,
      "outputs": [
        {
          "name": "stdout",
          "output_type": "stream",
          "text": [
            "Enter age: 48\n",
            "Enter bp: 80\n",
            "Enter sg: 1.020\n",
            "Enter al: 1\n",
            "Enter su: 0\n",
            "Enter rbc: 1\n",
            "Enter pc: 1\n",
            "Enter pcc: 0\n",
            "Enter ba: 0\n",
            "Enter bgr: 121\n",
            "Enter bu: 36\n",
            "Enter sc: 1.2\n",
            "Enter sod: 138\n",
            "Enter pot: 4.2\n",
            "Enter hemo: 15.4\n",
            "Enter pcv: 44\n",
            "Enter wc: 7800\n",
            "Enter rc: 5.2\n",
            "Enter htn: 1\n",
            "Enter dm: 1\n",
            "Enter cad: 0\n",
            "Enter appet: 1\n",
            "Enter pe: 0\n",
            "Enter ane: 0\n",
            "Enter ???: 0\n"
          ]
        }
      ]
    },
    {
      "cell_type": "code",
      "source": [
        "in_array = np.array([inputs])"
      ],
      "metadata": {
        "id": "CYXfDXT_5VXG"
      },
      "execution_count": 15,
      "outputs": []
    },
    {
      "cell_type": "code",
      "source": [
        "model = load_model('kidney.h5')"
      ],
      "metadata": {
        "id": "35ebb35w5X21",
        "outputId": "2d85d410-a3f6-48c7-c43c-1aac9a237ccb",
        "colab": {
          "base_uri": "https://localhost:8080/"
        }
      },
      "execution_count": 16,
      "outputs": [
        {
          "output_type": "stream",
          "name": "stderr",
          "text": [
            "WARNING:absl:Compiled the loaded model, but the compiled metrics have yet to be built. `model.compile_metrics` will be empty until you train or evaluate the model.\n"
          ]
        }
      ]
    },
    {
      "cell_type": "code",
      "source": [
        "result = model.predict(in_array)"
      ],
      "metadata": {
        "id": "z0dVpZ_95ZDd",
        "outputId": "d5d5d94b-4931-47c4-b1c3-8aca4a0a56bf",
        "colab": {
          "base_uri": "https://localhost:8080/"
        }
      },
      "execution_count": 17,
      "outputs": [
        {
          "output_type": "stream",
          "name": "stdout",
          "text": [
            "\u001b[1m1/1\u001b[0m \u001b[32m━━━━━━━━━━━━━━━━━━━━\u001b[0m\u001b[37m\u001b[0m \u001b[1m0s\u001b[0m 86ms/step\n"
          ]
        }
      ]
    },
    {
      "cell_type": "code",
      "source": [
        "if result > 0.5:\n",
        "    print(\"Kidney Disease Detected\")\n",
        "else:\n",
        "    print(\"No Kidney Disease\")"
      ],
      "metadata": {
        "colab": {
          "base_uri": "https://localhost:8080/"
        },
        "id": "hMntJbfk70J4",
        "outputId": "32841a4a-e4c7-4eb8-915e-cce2e102a5f4"
      },
      "execution_count": 18,
      "outputs": [
        {
          "output_type": "stream",
          "name": "stdout",
          "text": [
            "Kidney Disease Detected\n"
          ]
        }
      ]
    }
  ]
}